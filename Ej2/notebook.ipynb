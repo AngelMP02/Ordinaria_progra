{
 "cells": [
  {
   "cell_type": "code",
   "execution_count": 22,
   "metadata": {},
   "outputs": [],
   "source": [
    "import pandas as pd\n",
    "data = pd.read_csv('train.csv')"
   ]
  },
  {
   "cell_type": "code",
   "execution_count": 23,
   "metadata": {},
   "outputs": [
    {
     "data": {
      "text/plain": [
       "textID           0\n",
       "text             1\n",
       "selected_text    1\n",
       "sentiment        0\n",
       "dtype: int64"
      ]
     },
     "execution_count": 23,
     "metadata": {},
     "output_type": "execute_result"
    }
   ],
   "source": [
    "#vemos los valores nulos:\n",
    "data.isna().sum()"
   ]
  },
  {
   "cell_type": "code",
   "execution_count": 24,
   "metadata": {},
   "outputs": [],
   "source": [
    "df_cleaned = data.dropna()\n"
   ]
  },
  {
   "cell_type": "code",
   "execution_count": 26,
   "metadata": {},
   "outputs": [
    {
     "data": {
      "text/plain": [
       "textID           0\n",
       "text             0\n",
       "selected_text    0\n",
       "sentiment        0\n",
       "dtype: int64"
      ]
     },
     "execution_count": 26,
     "metadata": {},
     "output_type": "execute_result"
    }
   ],
   "source": [
    "#vemos que ya no hay  valores nulos:\n",
    "df_cleaned.isna().sum()"
   ]
  },
  {
   "attachments": {},
   "cell_type": "markdown",
   "metadata": {},
   "source": [
    "Ej3"
   ]
  },
  {
   "cell_type": "code",
   "execution_count": 28,
   "metadata": {},
   "outputs": [
    {
     "data": {
      "image/png": "[encoded data removed]",
      "text/plain": [
       "<Figure size 800x600 with 1 Axes>"
      ]
     },
     "metadata": {},
     "output_type": "display_data"
    }
   ],
   "source": [
    "import matplotlib.pyplot as plt\n",
    "\n",
    "sentiment_counts = df_cleaned[\"sentiment\"].value_counts()\n",
    "\n",
    "# Crear una lista ordenada de las categorías de sentimiento\n",
    "sentiments = [\"positive\", \"neutral\", \"negative\"]\n",
    "\n",
    "# Calcular los porcentajes relativos a la cantidad total de tweets\n",
    "tweet_percentages = [sentiment_counts[sentiment] / len(df_cleaned) * 100 for sentiment in sentiments]\n",
    "\n",
    "# Crear un gráfico de embudo\n",
    "plt.figure(figsize=(8, 6))\n",
    "plt.bar(sentiments, tweet_percentages, color=\"blue\")\n",
    "plt.xlabel(\"Sentimiento\")\n",
    "plt.ylabel(\"Porcentaje de Tweets\")\n",
    "plt.title(\"Distribución de Tweets en el Conjunto de Datos 'train'\")\n",
    "plt.show()"
   ]
  },
  {
   "cell_type": "code",
   "execution_count": 31,
   "metadata": {},
   "outputs": [
    {
     "name": "stderr",
     "output_type": "stream",
     "text": [
      "C:\\Users\\Angel Martínez\\AppData\\Local\\Temp\\ipykernel_31532\\2392185360.py:8: SettingWithCopyWarning: \n",
      "A value is trying to be set on a copy of a slice from a DataFrame.\n",
      "Try using .loc[row_indexer,col_indexer] = value instead\n",
      "\n",
      "See the caveats in the documentation: https://pandas.pydata.org/pandas-docs/stable/user_guide/indexing.html#returning-a-view-versus-a-copy\n",
      "  df_cleaned[\"word_difference\"] = df_cleaned.apply(lambda row: abs(len(row[\"selected_text\"].split()) - len(row[\"text\"].split())), axis=1)\n"
     ]
    },
    {
     "name": "stdout",
     "output_type": "stream",
     "text": [
      "       textID                                               text  \\\n",
      "0  cb774db0d1                I`d have responded, if I were going   \n",
      "1  549e992a42      Sooo SAD I will miss you here in San Diego!!!   \n",
      "2  088c60f138                          my boss is bullying me...   \n",
      "3  9642c003ef                     what interview! leave me alone   \n",
      "4  358bd9e861   Sons of ****, why couldn`t they put them on t...   \n",
      "\n",
      "                         selected_text sentiment  word_difference  \\\n",
      "0  I`d have responded, if I were going   neutral                0   \n",
      "1                             Sooo SAD  negative                8   \n",
      "2                          bullying me  negative                3   \n",
      "3                       leave me alone  negative                2   \n",
      "4                        Sons of ****,  negative               11   \n",
      "\n",
      "   jaccard_similarity  \n",
      "0            1.000000  \n",
      "1            0.200000  \n",
      "2            0.166667  \n",
      "3            0.600000  \n",
      "4            0.214286  \n"
     ]
    },
    {
     "name": "stderr",
     "output_type": "stream",
     "text": [
      "C:\\Users\\Angel Martínez\\AppData\\Local\\Temp\\ipykernel_31532\\2392185360.py:9: SettingWithCopyWarning: \n",
      "A value is trying to be set on a copy of a slice from a DataFrame.\n",
      "Try using .loc[row_indexer,col_indexer] = value instead\n",
      "\n",
      "See the caveats in the documentation: https://pandas.pydata.org/pandas-docs/stable/user_guide/indexing.html#returning-a-view-versus-a-copy\n",
      "  df_cleaned[\"jaccard_similarity\"] = df_cleaned.apply(lambda row: jaccard(row[\"text\"], row[\"selected_text\"]), axis=1)\n"
     ]
    }
   ],
   "source": [
    "def jaccard(str1, str2):\n",
    "    a = set(str1.lower().split())\n",
    "    b = set(str2.lower().split())\n",
    "    c = a.intersection(b)\n",
    "    return float(len(c)) / (len(a) + len(b) - len(c))\n",
    "\n",
    "# Aplicar la función jaccard a los datos y calcular la diferencia en el número de palabras\n",
    "df_cleaned[\"word_difference\"] = df_cleaned.apply(lambda row: abs(len(row[\"selected_text\"].split()) - len(row[\"text\"].split())), axis=1)\n",
    "df_cleaned[\"jaccard_similarity\"] = df_cleaned.apply(lambda row: jaccard(row[\"text\"], row[\"selected_text\"]), axis=1)\n",
    "\n",
    "print(df_cleaned.head())\n"
   ]
  },
  {
   "cell_type": "code",
   "execution_count": 32,
   "metadata": {},
   "outputs": [
    {
     "name": "stdout",
     "output_type": "stream",
     "text": [
      "Curtosis:\n",
      "sentiment\n",
      "negative    -0.743445\n",
      "neutral     74.549069\n",
      "positive    -0.767361\n",
      "Name: word_difference, dtype: float64\n",
      "\n",
      "Asimetría:\n",
      "sentiment\n",
      "negative    0.442730\n",
      "neutral     8.074509\n",
      "positive    0.413826\n",
      "Name: word_difference, dtype: float64\n"
     ]
    }
   ],
   "source": [
    "# Calcular la curtosis y asimetría para cada categoría de sentimiento\n",
    "curtosis = df_cleaned.groupby(\"sentiment\")[\"word_difference\"].apply(lambda x: x.kurtosis())\n",
    "skewness = df_cleaned.groupby(\"sentiment\")[\"word_difference\"].apply(lambda x: x.skew())\n",
    "\n",
    "# Visualizar los resultados\n",
    "print(\"Curtosis:\")\n",
    "print(curtosis)\n",
    "print(\"\\nAsimetría:\")\n",
    "print(skewness)"
   ]
  },
  {
   "cell_type": "code",
   "execution_count": 33,
   "metadata": {},
   "outputs": [
    {
     "name": "stdout",
     "output_type": "stream",
     "text": [
      "        textID                                               text  \\\n",
      "0   cb774db0d1                I`d have responded, if I were going   \n",
      "5   28b57f3990  http://www.dothebouncy.com/smf - some shameles...   \n",
      "7   50e14c0bb8                                         Soooo high   \n",
      "8   e050245fbd                                        Both of you   \n",
      "10  2339a9b08b   as much as i love to be hopeful, i reckon the...   \n",
      "\n",
      "                                        selected_text sentiment  \\\n",
      "0                 I`d have responded, if I were going   neutral   \n",
      "5   http://www.dothebouncy.com/smf - some shameles...   neutral   \n",
      "7                                          Soooo high   neutral   \n",
      "8                                         Both of you   neutral   \n",
      "10  as much as i love to be hopeful, i reckon the ...   neutral   \n",
      "\n",
      "    word_difference  jaccard_similarity  \n",
      "0                 0                 1.0  \n",
      "5                 0                 1.0  \n",
      "7                 0                 1.0  \n",
      "8                 0                 1.0  \n",
      "10                0                 1.0  \n"
     ]
    }
   ],
   "source": [
    "# Encontrar tweets con puntuaciones de similitud de Jaccard cercanas a 1\n",
    "high_similarity_tweets = df_cleaned[df_cleaned[\"jaccard_similarity\"] >= 0.9]\n",
    "\n",
    "\n",
    "print(high_similarity_tweets.head())"
   ]
  }
 ],
 "metadata": {
  "kernelspec": {
   "display_name": "base",
   "language": "python",
   "name": "python3"
  },
  "language_info": {
   "codemirror_mode": {
    "name": "ipython",
    "version": 3
   },
   "file_extension": ".py",
   "mimetype": "text/x-python",
   "name": "python",
   "nbconvert_exporter": "python",
   "pygments_lexer": "ipython3",
   "version": "3.10.9"
  },
  "orig_nbformat": 4
 },
 "nbformat": 4,
 "nbformat_minor": 2
}
